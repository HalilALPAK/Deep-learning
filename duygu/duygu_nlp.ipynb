{
 "cells": [
  {
   "cell_type": "code",
   "execution_count": null,
   "id": "33e5dcfb-9eef-45b5-ac51-a3bb7470de91",
   "metadata": {},
   "outputs": [],
   "source": [
    "from transformers import pipeline\n",
    "\n",
    "# Türkçe duygu analizi modeli\n",
    "classifier = pipeline(\"sentiment-analysis\", model=\"savasy/bert-base-turkish-sentiment-cased\")\n",
    "\n",
    "# Türkçe bir metni analiz et\n",
    "result = classifier(\"Bu ürün gerçekten harika, herkese tavsiye ederim!\")\n",
    "print(result)\n"
   ]
  },
  {
   "cell_type": "code",
   "execution_count": null,
   "id": "f70d3818-79d5-471f-85da-bdcfd09b54f2",
   "metadata": {},
   "outputs": [],
   "source": [
    "from transformers import pipeline\n",
    "from deep_translator import GoogleTranslator\n",
    "\n",
    "# Duygu analizi modeli (İngilizce)\n",
    "classifier = pipeline(\"sentiment-analysis\")\n",
    "\n",
    "# Türkçe metni İngilizce'ye çevir\n",
    "turkish_text = \"Bu ürün gerçekten harika, herkese tavsiye ederim!\"\n",
    "english_text = GoogleTranslator(source=\"tr\", target=\"en\").translate(turkish_text)\n",
    "\n",
    "# Çevrilen metni analiz et\n",
    "result = classifier(english_text)\n",
    "\n",
    "# Sonucu ekrana yazdır\n",
    "print(f\"Türkçe Cümle: {turkish_text}\")\n",
    "print(f\"İngilizce Çeviri: {english_text}\")\n",
    "print(f\"Analiz Sonucu: {result}\")\n"
   ]
  },
  {
   "cell_type": "code",
   "execution_count": null,
   "id": "971e5473-9c9d-4622-b8e2-e350aac96cf7",
   "metadata": {},
   "outputs": [],
   "source": []
  }
 ],
 "metadata": {
  "kernelspec": {
   "display_name": "Python 3 (ipykernel)",
   "language": "python",
   "name": "python3"
  },
  "language_info": {
   "codemirror_mode": {
    "name": "ipython",
    "version": 3
   },
   "file_extension": ".py",
   "mimetype": "text/x-python",
   "name": "python",
   "nbconvert_exporter": "python",
   "pygments_lexer": "ipython3",
   "version": "3.12.7"
  }
 },
 "nbformat": 4,
 "nbformat_minor": 5
}
